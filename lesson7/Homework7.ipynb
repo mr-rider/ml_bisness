{
  "nbformat": 4,
  "nbformat_minor": 0,
  "metadata": {
    "kernelspec": {
      "display_name": "Python 3",
      "language": "python",
      "name": "python3"
    },
    "language_info": {
      "codemirror_mode": {
        "name": "ipython",
        "version": 3
      },
      "file_extension": ".py",
      "mimetype": "text/x-python",
      "name": "python",
      "nbconvert_exporter": "python",
      "pygments_lexer": "ipython3",
      "version": "3.7.3"
    },
    "colab": {
      "name": "Homework7.ipynb",
      "provenance": [],
      "collapsed_sections": []
    }
  },
  "cells": [
    {
      "cell_type": "markdown",
      "metadata": {
        "id": "8cPaxn9LVqCp"
      },
      "source": [
        "### - взять любой набор данных для бинарной классификации (можно скачать один из модельных с https://archive.ics.uci.edu/ml/datasets.php)"
      ]
    },
    {
      "cell_type": "code",
      "metadata": {
        "colab": {
          "base_uri": "https://localhost:8080/",
          "height": 285
        },
        "id": "KqV22R1-VqC4",
        "outputId": "a6fd05bf-1b0d-4a8d-aa38-a6d8a067f099"
      },
      "source": [
        "import pandas as pd\n",
        "import numpy as np\n",
        "from sklearn.linear_model import LinearRegression\n",
        "from sklearn.preprocessing import StandardScaler\n",
        "from sklearn.pipeline import Pipeline, make_pipeline, FeatureUnion\n",
        "from sklearn.base import BaseEstimator, TransformerMixin\n",
        "from sklearn.model_selection import train_test_split\n",
        "from sklearn.metrics import mean_absolute_error, r2_score\n",
        "#test = pd.read_csv('/content/drive')\n",
        "df = pd.read_csv(\"/content/drive/MyDrive/ml_buisness/train.csv\")\n",
        "df_test = pd.read_csv(\"/content/drive/MyDrive/ml_buisness/test.csv\")\n",
        "print(df.shape)\n",
        "df.head(3)"
      ],
      "execution_count": 22,
      "outputs": [
        {
          "output_type": "stream",
          "name": "stdout",
          "text": [
            "(7500, 17)\n"
          ]
        },
        {
          "output_type": "execute_result",
          "data": {
            "text/html": [
              "<div>\n",
              "<style scoped>\n",
              "    .dataframe tbody tr th:only-of-type {\n",
              "        vertical-align: middle;\n",
              "    }\n",
              "\n",
              "    .dataframe tbody tr th {\n",
              "        vertical-align: top;\n",
              "    }\n",
              "\n",
              "    .dataframe thead th {\n",
              "        text-align: right;\n",
              "    }\n",
              "</style>\n",
              "<table border=\"1\" class=\"dataframe\">\n",
              "  <thead>\n",
              "    <tr style=\"text-align: right;\">\n",
              "      <th></th>\n",
              "      <th>Home Ownership</th>\n",
              "      <th>Annual Income</th>\n",
              "      <th>Years in current job</th>\n",
              "      <th>Tax Liens</th>\n",
              "      <th>Number of Open Accounts</th>\n",
              "      <th>Years of Credit History</th>\n",
              "      <th>Maximum Open Credit</th>\n",
              "      <th>Number of Credit Problems</th>\n",
              "      <th>Months since last delinquent</th>\n",
              "      <th>Bankruptcies</th>\n",
              "      <th>Purpose</th>\n",
              "      <th>Term</th>\n",
              "      <th>Current Loan Amount</th>\n",
              "      <th>Current Credit Balance</th>\n",
              "      <th>Monthly Debt</th>\n",
              "      <th>Credit Score</th>\n",
              "      <th>Credit Default</th>\n",
              "    </tr>\n",
              "  </thead>\n",
              "  <tbody>\n",
              "    <tr>\n",
              "      <th>0</th>\n",
              "      <td>Own Home</td>\n",
              "      <td>482087.0</td>\n",
              "      <td>NaN</td>\n",
              "      <td>0.0</td>\n",
              "      <td>11.0</td>\n",
              "      <td>26.3</td>\n",
              "      <td>685960.0</td>\n",
              "      <td>1.0</td>\n",
              "      <td>NaN</td>\n",
              "      <td>1.0</td>\n",
              "      <td>debt consolidation</td>\n",
              "      <td>Short Term</td>\n",
              "      <td>99999999.0</td>\n",
              "      <td>47386.0</td>\n",
              "      <td>7914.0</td>\n",
              "      <td>749.0</td>\n",
              "      <td>0</td>\n",
              "    </tr>\n",
              "    <tr>\n",
              "      <th>1</th>\n",
              "      <td>Own Home</td>\n",
              "      <td>1025487.0</td>\n",
              "      <td>10+ years</td>\n",
              "      <td>0.0</td>\n",
              "      <td>15.0</td>\n",
              "      <td>15.3</td>\n",
              "      <td>1181730.0</td>\n",
              "      <td>0.0</td>\n",
              "      <td>NaN</td>\n",
              "      <td>0.0</td>\n",
              "      <td>debt consolidation</td>\n",
              "      <td>Long Term</td>\n",
              "      <td>264968.0</td>\n",
              "      <td>394972.0</td>\n",
              "      <td>18373.0</td>\n",
              "      <td>737.0</td>\n",
              "      <td>1</td>\n",
              "    </tr>\n",
              "    <tr>\n",
              "      <th>2</th>\n",
              "      <td>Home Mortgage</td>\n",
              "      <td>751412.0</td>\n",
              "      <td>8 years</td>\n",
              "      <td>0.0</td>\n",
              "      <td>11.0</td>\n",
              "      <td>35.0</td>\n",
              "      <td>1182434.0</td>\n",
              "      <td>0.0</td>\n",
              "      <td>NaN</td>\n",
              "      <td>0.0</td>\n",
              "      <td>debt consolidation</td>\n",
              "      <td>Short Term</td>\n",
              "      <td>99999999.0</td>\n",
              "      <td>308389.0</td>\n",
              "      <td>13651.0</td>\n",
              "      <td>742.0</td>\n",
              "      <td>0</td>\n",
              "    </tr>\n",
              "  </tbody>\n",
              "</table>\n",
              "</div>"
            ],
            "text/plain": [
              "  Home Ownership  Annual Income  ... Credit Score  Credit Default\n",
              "0       Own Home       482087.0  ...        749.0               0\n",
              "1       Own Home      1025487.0  ...        737.0               1\n",
              "2  Home Mortgage       751412.0  ...        742.0               0\n",
              "\n",
              "[3 rows x 17 columns]"
            ]
          },
          "metadata": {},
          "execution_count": 22
        }
      ]
    },
    {
      "cell_type": "markdown",
      "metadata": {
        "id": "FKfZ-fzGVqDB"
      },
      "source": [
        "### - сделать обзорный анализ выбранного датасета"
      ]
    },
    {
      "cell_type": "code",
      "metadata": {
        "colab": {
          "base_uri": "https://localhost:8080/"
        },
        "id": "slDMbzt-WJjY",
        "outputId": "3cb45b9c-a1fc-407c-ad8c-42dcd98da834"
      },
      "source": [
        "from google.colab import drive\n",
        "drive.mount('/content/drive')"
      ],
      "execution_count": 23,
      "outputs": [
        {
          "output_type": "stream",
          "name": "stdout",
          "text": [
            "Drive already mounted at /content/drive; to attempt to forcibly remount, call drive.mount(\"/content/drive\", force_remount=True).\n"
          ]
        }
      ]
    },
    {
      "cell_type": "code",
      "metadata": {
        "colab": {
          "base_uri": "https://localhost:8080/"
        },
        "id": "kDvPOl7sVqDF",
        "outputId": "0229c1a2-c300-4a8e-c667-e6616bb4d75c"
      },
      "source": [
        "df.shape"
      ],
      "execution_count": 24,
      "outputs": [
        {
          "output_type": "execute_result",
          "data": {
            "text/plain": [
              "(7500, 17)"
            ]
          },
          "metadata": {},
          "execution_count": 24
        }
      ]
    },
    {
      "cell_type": "code",
      "metadata": {
        "colab": {
          "base_uri": "https://localhost:8080/"
        },
        "id": "Y_TkNUVrVqDH",
        "outputId": "954eda8c-a146-4fdf-ab2f-f63a55d8f1d7"
      },
      "source": [
        "df.info()"
      ],
      "execution_count": 25,
      "outputs": [
        {
          "output_type": "stream",
          "name": "stdout",
          "text": [
            "<class 'pandas.core.frame.DataFrame'>\n",
            "RangeIndex: 7500 entries, 0 to 7499\n",
            "Data columns (total 17 columns):\n",
            " #   Column                        Non-Null Count  Dtype  \n",
            "---  ------                        --------------  -----  \n",
            " 0   Home Ownership                7500 non-null   object \n",
            " 1   Annual Income                 5943 non-null   float64\n",
            " 2   Years in current job          7129 non-null   object \n",
            " 3   Tax Liens                     7500 non-null   float64\n",
            " 4   Number of Open Accounts       7500 non-null   float64\n",
            " 5   Years of Credit History       7500 non-null   float64\n",
            " 6   Maximum Open Credit           7500 non-null   float64\n",
            " 7   Number of Credit Problems     7500 non-null   float64\n",
            " 8   Months since last delinquent  3419 non-null   float64\n",
            " 9   Bankruptcies                  7486 non-null   float64\n",
            " 10  Purpose                       7500 non-null   object \n",
            " 11  Term                          7500 non-null   object \n",
            " 12  Current Loan Amount           7500 non-null   float64\n",
            " 13  Current Credit Balance        7500 non-null   float64\n",
            " 14  Monthly Debt                  7500 non-null   float64\n",
            " 15  Credit Score                  5943 non-null   float64\n",
            " 16  Credit Default                7500 non-null   int64  \n",
            "dtypes: float64(12), int64(1), object(4)\n",
            "memory usage: 996.2+ KB\n"
          ]
        }
      ]
    },
    {
      "cell_type": "code",
      "metadata": {
        "colab": {
          "base_uri": "https://localhost:8080/"
        },
        "id": "KUgUjw2mVqDI",
        "outputId": "b42bd7ac-e525-43d6-d4b9-a03b910c6899"
      },
      "source": [
        "# Анализ целевой переменной\n",
        "df['Credit Default'].value_counts()"
      ],
      "execution_count": 26,
      "outputs": [
        {
          "output_type": "execute_result",
          "data": {
            "text/plain": [
              "0    5387\n",
              "1    2113\n",
              "Name: Credit Default, dtype: int64"
            ]
          },
          "metadata": {},
          "execution_count": 26
        }
      ]
    },
    {
      "cell_type": "code",
      "metadata": {
        "colab": {
          "base_uri": "https://localhost:8080/",
          "height": 355
        },
        "id": "fY9SbTy-VqDK",
        "outputId": "87eaf0b7-40d2-4802-9e53-92b8d29221a1"
      },
      "source": [
        "df.describe()"
      ],
      "execution_count": 27,
      "outputs": [
        {
          "output_type": "execute_result",
          "data": {
            "text/html": [
              "<div>\n",
              "<style scoped>\n",
              "    .dataframe tbody tr th:only-of-type {\n",
              "        vertical-align: middle;\n",
              "    }\n",
              "\n",
              "    .dataframe tbody tr th {\n",
              "        vertical-align: top;\n",
              "    }\n",
              "\n",
              "    .dataframe thead th {\n",
              "        text-align: right;\n",
              "    }\n",
              "</style>\n",
              "<table border=\"1\" class=\"dataframe\">\n",
              "  <thead>\n",
              "    <tr style=\"text-align: right;\">\n",
              "      <th></th>\n",
              "      <th>Annual Income</th>\n",
              "      <th>Tax Liens</th>\n",
              "      <th>Number of Open Accounts</th>\n",
              "      <th>Years of Credit History</th>\n",
              "      <th>Maximum Open Credit</th>\n",
              "      <th>Number of Credit Problems</th>\n",
              "      <th>Months since last delinquent</th>\n",
              "      <th>Bankruptcies</th>\n",
              "      <th>Current Loan Amount</th>\n",
              "      <th>Current Credit Balance</th>\n",
              "      <th>Monthly Debt</th>\n",
              "      <th>Credit Score</th>\n",
              "      <th>Credit Default</th>\n",
              "    </tr>\n",
              "  </thead>\n",
              "  <tbody>\n",
              "    <tr>\n",
              "      <th>count</th>\n",
              "      <td>5.943000e+03</td>\n",
              "      <td>7500.000000</td>\n",
              "      <td>7500.000000</td>\n",
              "      <td>7500.000000</td>\n",
              "      <td>7.500000e+03</td>\n",
              "      <td>7500.000000</td>\n",
              "      <td>3419.000000</td>\n",
              "      <td>7486.000000</td>\n",
              "      <td>7.500000e+03</td>\n",
              "      <td>7.500000e+03</td>\n",
              "      <td>7500.000000</td>\n",
              "      <td>5943.000000</td>\n",
              "      <td>7500.000000</td>\n",
              "    </tr>\n",
              "    <tr>\n",
              "      <th>mean</th>\n",
              "      <td>1.366392e+06</td>\n",
              "      <td>0.030133</td>\n",
              "      <td>11.130933</td>\n",
              "      <td>18.317467</td>\n",
              "      <td>9.451537e+05</td>\n",
              "      <td>0.170000</td>\n",
              "      <td>34.692600</td>\n",
              "      <td>0.117152</td>\n",
              "      <td>1.187318e+07</td>\n",
              "      <td>2.898332e+05</td>\n",
              "      <td>18314.454133</td>\n",
              "      <td>1151.087498</td>\n",
              "      <td>0.281733</td>\n",
              "    </tr>\n",
              "    <tr>\n",
              "      <th>std</th>\n",
              "      <td>8.453392e+05</td>\n",
              "      <td>0.271604</td>\n",
              "      <td>4.908924</td>\n",
              "      <td>7.041946</td>\n",
              "      <td>1.602622e+07</td>\n",
              "      <td>0.498598</td>\n",
              "      <td>21.688806</td>\n",
              "      <td>0.347192</td>\n",
              "      <td>3.192612e+07</td>\n",
              "      <td>3.178714e+05</td>\n",
              "      <td>11926.764673</td>\n",
              "      <td>1604.451418</td>\n",
              "      <td>0.449874</td>\n",
              "    </tr>\n",
              "    <tr>\n",
              "      <th>min</th>\n",
              "      <td>1.645970e+05</td>\n",
              "      <td>0.000000</td>\n",
              "      <td>2.000000</td>\n",
              "      <td>4.000000</td>\n",
              "      <td>0.000000e+00</td>\n",
              "      <td>0.000000</td>\n",
              "      <td>0.000000</td>\n",
              "      <td>0.000000</td>\n",
              "      <td>1.124200e+04</td>\n",
              "      <td>0.000000e+00</td>\n",
              "      <td>0.000000</td>\n",
              "      <td>585.000000</td>\n",
              "      <td>0.000000</td>\n",
              "    </tr>\n",
              "    <tr>\n",
              "      <th>25%</th>\n",
              "      <td>8.443410e+05</td>\n",
              "      <td>0.000000</td>\n",
              "      <td>8.000000</td>\n",
              "      <td>13.500000</td>\n",
              "      <td>2.792295e+05</td>\n",
              "      <td>0.000000</td>\n",
              "      <td>16.000000</td>\n",
              "      <td>0.000000</td>\n",
              "      <td>1.801690e+05</td>\n",
              "      <td>1.142565e+05</td>\n",
              "      <td>10067.500000</td>\n",
              "      <td>711.000000</td>\n",
              "      <td>0.000000</td>\n",
              "    </tr>\n",
              "    <tr>\n",
              "      <th>50%</th>\n",
              "      <td>1.168386e+06</td>\n",
              "      <td>0.000000</td>\n",
              "      <td>10.000000</td>\n",
              "      <td>17.000000</td>\n",
              "      <td>4.781590e+05</td>\n",
              "      <td>0.000000</td>\n",
              "      <td>32.000000</td>\n",
              "      <td>0.000000</td>\n",
              "      <td>3.095730e+05</td>\n",
              "      <td>2.093230e+05</td>\n",
              "      <td>16076.500000</td>\n",
              "      <td>731.000000</td>\n",
              "      <td>0.000000</td>\n",
              "    </tr>\n",
              "    <tr>\n",
              "      <th>75%</th>\n",
              "      <td>1.640137e+06</td>\n",
              "      <td>0.000000</td>\n",
              "      <td>14.000000</td>\n",
              "      <td>21.800000</td>\n",
              "      <td>7.935015e+05</td>\n",
              "      <td>0.000000</td>\n",
              "      <td>50.000000</td>\n",
              "      <td>0.000000</td>\n",
              "      <td>5.198820e+05</td>\n",
              "      <td>3.604062e+05</td>\n",
              "      <td>23818.000000</td>\n",
              "      <td>743.000000</td>\n",
              "      <td>1.000000</td>\n",
              "    </tr>\n",
              "    <tr>\n",
              "      <th>max</th>\n",
              "      <td>1.014934e+07</td>\n",
              "      <td>7.000000</td>\n",
              "      <td>43.000000</td>\n",
              "      <td>57.700000</td>\n",
              "      <td>1.304726e+09</td>\n",
              "      <td>7.000000</td>\n",
              "      <td>118.000000</td>\n",
              "      <td>4.000000</td>\n",
              "      <td>1.000000e+08</td>\n",
              "      <td>6.506797e+06</td>\n",
              "      <td>136679.000000</td>\n",
              "      <td>7510.000000</td>\n",
              "      <td>1.000000</td>\n",
              "    </tr>\n",
              "  </tbody>\n",
              "</table>\n",
              "</div>"
            ],
            "text/plain": [
              "       Annual Income    Tax Liens  ...  Credit Score  Credit Default\n",
              "count   5.943000e+03  7500.000000  ...   5943.000000     7500.000000\n",
              "mean    1.366392e+06     0.030133  ...   1151.087498        0.281733\n",
              "std     8.453392e+05     0.271604  ...   1604.451418        0.449874\n",
              "min     1.645970e+05     0.000000  ...    585.000000        0.000000\n",
              "25%     8.443410e+05     0.000000  ...    711.000000        0.000000\n",
              "50%     1.168386e+06     0.000000  ...    731.000000        0.000000\n",
              "75%     1.640137e+06     0.000000  ...    743.000000        1.000000\n",
              "max     1.014934e+07     7.000000  ...   7510.000000        1.000000\n",
              "\n",
              "[8 rows x 13 columns]"
            ]
          },
          "metadata": {},
          "execution_count": 27
        }
      ]
    },
    {
      "cell_type": "code",
      "metadata": {
        "id": "zcltUrD9VqDM"
      },
      "source": [
        "# Убираем лишние 0 в Credit Score  в train\n",
        "for cr_score in df['Credit Score']:\n",
        "    if (len(str(cr_score))) > 5:\n",
        "        # print(cr_score)\n",
        "        df.loc[df['Credit Score'] == cr_score, 'Credit Score'] = cr_score/10"
      ],
      "execution_count": 28,
      "outputs": []
    },
    {
      "cell_type": "code",
      "metadata": {
        "id": "-5_-OyrBVqDN"
      },
      "source": [
        "# Убираем лишние 0 в Credit Score в test\n",
        "for cr_score in df_test['Credit Score']:\n",
        "    if (len(str(cr_score))) > 5:\n",
        "        # print(cr_score)\n",
        "        df_test.loc[df_test['Credit Score'] == cr_score, 'Credit Score'] = cr_score/10"
      ],
      "execution_count": 29,
      "outputs": []
    },
    {
      "cell_type": "code",
      "metadata": {
        "id": "a0mVQQO0VqDQ"
      },
      "source": [
        "df = df[df['Maximum Open Credit']<99999999]\n",
        "df_test = df_test[df_test['Maximum Open Credit']<99999999]"
      ],
      "execution_count": 30,
      "outputs": []
    },
    {
      "cell_type": "code",
      "metadata": {
        "id": "0RuTb3nqVqDS"
      },
      "source": [
        "median_loan_by_purpose = df.groupby('Purpose', as_index=False).agg({'Current Loan Amount':'median'})\n",
        "median_loan_by_purpose_test = df_test.groupby('Purpose', as_index=False).agg({'Current Loan Amount':'median'})"
      ],
      "execution_count": 31,
      "outputs": []
    },
    {
      "cell_type": "code",
      "metadata": {
        "id": "A_AKRuCoVqDV"
      },
      "source": [
        "for purpose in median_loan_by_purpose['Purpose']:\n",
        "    df.loc[(df['Current Loan Amount']==99999999) & (df['Purpose']==str(purpose)), 'Current Loan Amount'] = median_loan_by_purpose.loc[median_loan_by_purpose['Purpose']==purpose, 'Current Loan Amount']\n",
        "\n",
        "for purpose in median_loan_by_purpose_test['Purpose']:\n",
        "    df_test.loc[(df_test['Current Loan Amount']==99999999) & (df_test['Purpose']==str(purpose)), 'Current Loan Amount'] = median_loan_by_purpose_test.loc[median_loan_by_purpose_test['Purpose']==purpose, 'Current Loan Amount']"
      ],
      "execution_count": 32,
      "outputs": []
    },
    {
      "cell_type": "markdown",
      "metadata": {
        "id": "NXbYHow4VqDX"
      },
      "source": [
        "##### Обработка пропусков"
      ]
    },
    {
      "cell_type": "code",
      "metadata": {
        "id": "c7MJe1L9VqDY"
      },
      "source": [
        "median_annual_income = df['Annual Income'].median()\n",
        "df['Annual Income'] = df['Annual Income'].fillna(median_annual_income)\n"
      ],
      "execution_count": 33,
      "outputs": []
    },
    {
      "cell_type": "code",
      "metadata": {
        "id": "COYjrr5AVqDZ"
      },
      "source": [
        "median_annual_income = df_test['Annual Income'].median()\n",
        "df_test['Annual Income'] = df_test['Annual Income'].fillna(median_annual_income)\n"
      ],
      "execution_count": 34,
      "outputs": []
    },
    {
      "cell_type": "code",
      "metadata": {
        "id": "dR2oxuTsVqDZ"
      },
      "source": [
        "median_cred_score = df['Credit Score'].median()\n",
        "df['Credit Score'] = df['Credit Score'].fillna(median_cred_score)\n"
      ],
      "execution_count": 35,
      "outputs": []
    },
    {
      "cell_type": "code",
      "metadata": {
        "id": "_pjM48HhVqDa"
      },
      "source": [
        "median_cred_score = df_test['Credit Score'].median()\n",
        "df_test['Credit Score'] = df_test['Credit Score'].fillna(median_cred_score)"
      ],
      "execution_count": 36,
      "outputs": []
    },
    {
      "cell_type": "code",
      "metadata": {
        "id": "dJufImN-VqDc"
      },
      "source": [
        "df['Bankruptcies'] = df['Bankruptcies'].fillna(0)\n",
        "df_test['Bankruptcies'] = df_test['Bankruptcies'].fillna(0)"
      ],
      "execution_count": 37,
      "outputs": []
    },
    {
      "cell_type": "code",
      "metadata": {
        "id": "9F3KMAsJVqDd"
      },
      "source": [
        "df.loc[df['Years in current job'].isnull(), 'Years in current job'] = df['Years in current job'].mode()[0]\n",
        "df_test.loc[df_test['Years in current job'].isnull(), 'Years in current job'] = df_test['Years in current job'].mode()[0]"
      ],
      "execution_count": 38,
      "outputs": []
    },
    {
      "cell_type": "code",
      "metadata": {
        "id": "hxfSkmr0VqDd"
      },
      "source": [
        "df['Months since last delinquent'] = df['Months since last delinquent'].fillna(0)\n",
        "df_test['Months since last delinquent'] = df_test['Months since last delinquent'].fillna(0)\n"
      ],
      "execution_count": 39,
      "outputs": []
    },
    {
      "cell_type": "code",
      "metadata": {
        "id": "XG_9ryNhVqDe"
      },
      "source": [
        "# Сохраним подготовленные данные\n",
        "df_train_prep= df.copy()\n",
        "df_test_prep=df_test.copy()"
      ],
      "execution_count": 40,
      "outputs": []
    },
    {
      "cell_type": "markdown",
      "metadata": {
        "id": "_-76NuriVqDf"
      },
      "source": [
        "##### Обучение модели"
      ]
    },
    {
      "cell_type": "code",
      "metadata": {
        "id": "MCfndXPBVqDf"
      },
      "source": [
        "# Целевой признак\n",
        "target = 'Credit Default'\n",
        "# Все признаки \n",
        "features_all = df_train_prep.columns.drop('Credit Default').tolist()\n",
        "# Num\n",
        "features_without_categ =['Annual Income','Tax Liens','Number of Open Accounts','Years of Credit History','Maximum Open Credit', 'Number of Credit Problems','Bankruptcies', 'Current Loan Amount', 'Current Credit Balance','Monthly Debt','Credit Score']\n",
        "features_categ=['Home Ownership','Years in current job','Purpose','Term']"
      ],
      "execution_count": 41,
      "outputs": []
    },
    {
      "cell_type": "code",
      "metadata": {
        "colab": {
          "base_uri": "https://localhost:8080/"
        },
        "id": "EHPjbjnoVqDg",
        "outputId": "f5ca255d-d0e2-458b-e73e-b05349de8588"
      },
      "source": [
        "for colname in features_categ:\n",
        "    df_train_prep[colname] = pd.Categorical(df_train_prep[colname])\n",
        "    \n",
        "df_train_prep[features_categ].dtypes"
      ],
      "execution_count": 42,
      "outputs": [
        {
          "output_type": "execute_result",
          "data": {
            "text/plain": [
              "Home Ownership          category\n",
              "Years in current job    category\n",
              "Purpose                 category\n",
              "Term                    category\n",
              "dtype: object"
            ]
          },
          "metadata": {},
          "execution_count": 42
        }
      ]
    },
    {
      "cell_type": "code",
      "metadata": {
        "colab": {
          "base_uri": "https://localhost:8080/"
        },
        "id": "pjYskpdGVqDi",
        "outputId": "43a34ef4-9268-43db-fb6f-8506992c6b89"
      },
      "source": [
        "for colname in features_categ:\n",
        "    df_test_prep[colname] = pd.Categorical(df_test_prep[colname])\n",
        "    \n",
        "df_test_prep[features_categ].dtypes"
      ],
      "execution_count": 43,
      "outputs": [
        {
          "output_type": "execute_result",
          "data": {
            "text/plain": [
              "Home Ownership          category\n",
              "Years in current job    category\n",
              "Purpose                 category\n",
              "Term                    category\n",
              "dtype: object"
            ]
          },
          "metadata": {},
          "execution_count": 43
        }
      ]
    },
    {
      "cell_type": "code",
      "metadata": {
        "colab": {
          "base_uri": "https://localhost:8080/",
          "height": 241
        },
        "id": "ckYzPgTTVqDj",
        "outputId": "5dab36ea-4117-480d-a53a-7b4c1f29f85f"
      },
      "source": [
        "# Создаем датафреймы из данных\n",
        "X=pd.DataFrame(df_train_prep, columns=features_without_categ)\n",
        "X.head()"
      ],
      "execution_count": 44,
      "outputs": [
        {
          "output_type": "execute_result",
          "data": {
            "text/html": [
              "<div>\n",
              "<style scoped>\n",
              "    .dataframe tbody tr th:only-of-type {\n",
              "        vertical-align: middle;\n",
              "    }\n",
              "\n",
              "    .dataframe tbody tr th {\n",
              "        vertical-align: top;\n",
              "    }\n",
              "\n",
              "    .dataframe thead th {\n",
              "        text-align: right;\n",
              "    }\n",
              "</style>\n",
              "<table border=\"1\" class=\"dataframe\">\n",
              "  <thead>\n",
              "    <tr style=\"text-align: right;\">\n",
              "      <th></th>\n",
              "      <th>Annual Income</th>\n",
              "      <th>Tax Liens</th>\n",
              "      <th>Number of Open Accounts</th>\n",
              "      <th>Years of Credit History</th>\n",
              "      <th>Maximum Open Credit</th>\n",
              "      <th>Number of Credit Problems</th>\n",
              "      <th>Bankruptcies</th>\n",
              "      <th>Current Loan Amount</th>\n",
              "      <th>Current Credit Balance</th>\n",
              "      <th>Monthly Debt</th>\n",
              "      <th>Credit Score</th>\n",
              "    </tr>\n",
              "  </thead>\n",
              "  <tbody>\n",
              "    <tr>\n",
              "      <th>0</th>\n",
              "      <td>482087.0</td>\n",
              "      <td>0.0</td>\n",
              "      <td>11.0</td>\n",
              "      <td>26.3</td>\n",
              "      <td>685960.0</td>\n",
              "      <td>1.0</td>\n",
              "      <td>1.0</td>\n",
              "      <td>NaN</td>\n",
              "      <td>47386.0</td>\n",
              "      <td>7914.0</td>\n",
              "      <td>749.0</td>\n",
              "    </tr>\n",
              "    <tr>\n",
              "      <th>1</th>\n",
              "      <td>1025487.0</td>\n",
              "      <td>0.0</td>\n",
              "      <td>15.0</td>\n",
              "      <td>15.3</td>\n",
              "      <td>1181730.0</td>\n",
              "      <td>0.0</td>\n",
              "      <td>0.0</td>\n",
              "      <td>264968.0</td>\n",
              "      <td>394972.0</td>\n",
              "      <td>18373.0</td>\n",
              "      <td>737.0</td>\n",
              "    </tr>\n",
              "    <tr>\n",
              "      <th>2</th>\n",
              "      <td>751412.0</td>\n",
              "      <td>0.0</td>\n",
              "      <td>11.0</td>\n",
              "      <td>35.0</td>\n",
              "      <td>1182434.0</td>\n",
              "      <td>0.0</td>\n",
              "      <td>0.0</td>\n",
              "      <td>NaN</td>\n",
              "      <td>308389.0</td>\n",
              "      <td>13651.0</td>\n",
              "      <td>742.0</td>\n",
              "    </tr>\n",
              "    <tr>\n",
              "      <th>3</th>\n",
              "      <td>805068.0</td>\n",
              "      <td>0.0</td>\n",
              "      <td>8.0</td>\n",
              "      <td>22.5</td>\n",
              "      <td>147400.0</td>\n",
              "      <td>1.0</td>\n",
              "      <td>1.0</td>\n",
              "      <td>121396.0</td>\n",
              "      <td>95855.0</td>\n",
              "      <td>11338.0</td>\n",
              "      <td>694.0</td>\n",
              "    </tr>\n",
              "    <tr>\n",
              "      <th>4</th>\n",
              "      <td>776264.0</td>\n",
              "      <td>0.0</td>\n",
              "      <td>13.0</td>\n",
              "      <td>13.6</td>\n",
              "      <td>385836.0</td>\n",
              "      <td>1.0</td>\n",
              "      <td>0.0</td>\n",
              "      <td>125840.0</td>\n",
              "      <td>93309.0</td>\n",
              "      <td>7180.0</td>\n",
              "      <td>719.0</td>\n",
              "    </tr>\n",
              "  </tbody>\n",
              "</table>\n",
              "</div>"
            ],
            "text/plain": [
              "   Annual Income  Tax Liens  ...  Monthly Debt  Credit Score\n",
              "0       482087.0        0.0  ...        7914.0         749.0\n",
              "1      1025487.0        0.0  ...       18373.0         737.0\n",
              "2       751412.0        0.0  ...       13651.0         742.0\n",
              "3       805068.0        0.0  ...       11338.0         694.0\n",
              "4       776264.0        0.0  ...        7180.0         719.0\n",
              "\n",
              "[5 rows x 11 columns]"
            ]
          },
          "metadata": {},
          "execution_count": 44
        }
      ]
    },
    {
      "cell_type": "code",
      "metadata": {
        "id": "MNY9NZckVqDk"
      },
      "source": [
        "y = df_train_prep['Credit Default']"
      ],
      "execution_count": 45,
      "outputs": []
    },
    {
      "cell_type": "code",
      "metadata": {
        "colab": {
          "base_uri": "https://localhost:8080/"
        },
        "id": "eFpTuxSvVqDk",
        "outputId": "c33eb5c7-752c-475d-9152-02173a53ecb6"
      },
      "source": [
        "from sklearn.model_selection import train_test_split\n",
        "X_train, X_test, y_train, y_test = train_test_split(X,y, test_size=0.2, shuffle=True,stratify=df_train_prep['Credit Default'], random_state=2)\n",
        "X_train.shape, X_test.shape"
      ],
      "execution_count": 46,
      "outputs": [
        {
          "output_type": "execute_result",
          "data": {
            "text/plain": [
              "((5997, 11), (1500, 11))"
            ]
          },
          "metadata": {},
          "execution_count": 46
        }
      ]
    },
    {
      "cell_type": "code",
      "metadata": {
        "id": "fyl9MSHSVqDl"
      },
      "source": [
        "def balance_df_by_target(df, target_name):\n",
        "\n",
        "    target_counts = df[target_name].value_counts()\n",
        "\n",
        "    major_class_name = target_counts.argmax()\n",
        "    minor_class_name = target_counts.argmin()\n",
        "\n",
        "    disbalance_coeff = int(target_counts[major_class_name] / target_counts[minor_class_name]) - 1\n",
        "\n",
        "    for i in range(disbalance_coeff):\n",
        "        sample = df[df[target_name] == minor_class_name].sample(target_counts[minor_class_name])\n",
        "        df = df.append(sample, ignore_index=True)\n",
        "\n",
        "    return df.sample(frac=1) "
      ],
      "execution_count": 47,
      "outputs": []
    },
    {
      "cell_type": "code",
      "metadata": {
        "colab": {
          "base_uri": "https://localhost:8080/"
        },
        "id": "8PoFdmCEVqDm",
        "outputId": "3efa6726-a65e-44ed-c321-26e8f969ef3d"
      },
      "source": [
        "df_for_balancing = pd.concat([X_train, y_train], axis=1)\n",
        "df_balanced = balance_df_by_target(df_for_balancing, target)\n",
        "    \n",
        "df_balanced[target].value_counts()"
      ],
      "execution_count": 48,
      "outputs": [
        {
          "output_type": "execute_result",
          "data": {
            "text/plain": [
              "0    4307\n",
              "1    3380\n",
              "Name: Credit Default, dtype: int64"
            ]
          },
          "metadata": {},
          "execution_count": 48
        }
      ]
    },
    {
      "cell_type": "code",
      "metadata": {
        "id": "C7_rleSaVqDo"
      },
      "source": [
        "X_train = df_balanced.drop(columns=target)\n",
        "y_train = df_balanced[target]"
      ],
      "execution_count": 49,
      "outputs": []
    },
    {
      "cell_type": "code",
      "metadata": {
        "colab": {
          "base_uri": "https://localhost:8080/"
        },
        "id": "MXVnc9YGX4Nt",
        "outputId": "e751ebfb-cbdf-48b9-a97d-8de43b27da01"
      },
      "source": [
        "pip install catboost"
      ],
      "execution_count": 51,
      "outputs": [
        {
          "output_type": "stream",
          "name": "stdout",
          "text": [
            "Collecting catboost\n",
            "  Downloading catboost-0.26.1-cp37-none-manylinux1_x86_64.whl (67.4 MB)\n",
            "\u001b[K     |████████████████████████████████| 67.4 MB 28 kB/s \n",
            "\u001b[?25hRequirement already satisfied: pandas>=0.24.0 in /usr/local/lib/python3.7/dist-packages (from catboost) (1.1.5)\n",
            "Requirement already satisfied: graphviz in /usr/local/lib/python3.7/dist-packages (from catboost) (0.10.1)\n",
            "Requirement already satisfied: matplotlib in /usr/local/lib/python3.7/dist-packages (from catboost) (3.2.2)\n",
            "Requirement already satisfied: six in /usr/local/lib/python3.7/dist-packages (from catboost) (1.15.0)\n",
            "Requirement already satisfied: plotly in /usr/local/lib/python3.7/dist-packages (from catboost) (4.4.1)\n",
            "Requirement already satisfied: numpy>=1.16.0 in /usr/local/lib/python3.7/dist-packages (from catboost) (1.19.5)\n",
            "Requirement already satisfied: scipy in /usr/local/lib/python3.7/dist-packages (from catboost) (1.4.1)\n",
            "Requirement already satisfied: python-dateutil>=2.7.3 in /usr/local/lib/python3.7/dist-packages (from pandas>=0.24.0->catboost) (2.8.2)\n",
            "Requirement already satisfied: pytz>=2017.2 in /usr/local/lib/python3.7/dist-packages (from pandas>=0.24.0->catboost) (2018.9)\n",
            "Requirement already satisfied: cycler>=0.10 in /usr/local/lib/python3.7/dist-packages (from matplotlib->catboost) (0.10.0)\n",
            "Requirement already satisfied: kiwisolver>=1.0.1 in /usr/local/lib/python3.7/dist-packages (from matplotlib->catboost) (1.3.2)\n",
            "Requirement already satisfied: pyparsing!=2.0.4,!=2.1.2,!=2.1.6,>=2.0.1 in /usr/local/lib/python3.7/dist-packages (from matplotlib->catboost) (2.4.7)\n",
            "Requirement already satisfied: retrying>=1.3.3 in /usr/local/lib/python3.7/dist-packages (from plotly->catboost) (1.3.3)\n",
            "Installing collected packages: catboost\n",
            "Successfully installed catboost-0.26.1\n"
          ]
        }
      ]
    },
    {
      "cell_type": "code",
      "metadata": {
        "id": "9koQHRF1VqDo"
      },
      "source": [
        "import catboost as cb\n",
        "cb_params = {\n",
        "    \"n_estimators\": 2000,\n",
        "    \"loss_function\": \"Logloss\",\n",
        "    \"eval_metric\": \"F1\",\n",
        "    \"task_type\": \"CPU\",\n",
        "    \"max_bin\": 20,\n",
        "    \"verbose\": 10,\n",
        "    \"max_depth\": 6,\n",
        "    \"l2_leaf_reg\": 3,\n",
        "    \"early_stopping_rounds\": 50,\n",
        "    \"thread_count\": 6,\n",
        "    \"random_seed\": 42,\n",
        "    #\"cat_features\": features_categ,\n",
        "    #\"reg_lambda\":0.5,\n",
        "    #'class_weights':[1, disbalance]\n",
        "    \n",
        "}"
      ],
      "execution_count": 53,
      "outputs": []
    },
    {
      "cell_type": "markdown",
      "metadata": {
        "id": "Ftv-OjGfVqDp"
      },
      "source": [
        "### - обучить любой классификатор (какой вам нравится)"
      ]
    },
    {
      "cell_type": "code",
      "metadata": {
        "colab": {
          "base_uri": "https://localhost:8080/"
        },
        "id": "t6rZnqQZVqDq",
        "outputId": "d7f526ab-e8fe-4aeb-fba4-3becec5afc9b"
      },
      "source": [
        "model = cb.CatBoostClassifier(**cb_params)\n",
        "model.fit(X_train, y_train, eval_set=[(X_train, y_train), (X_test, y_test)])"
      ],
      "execution_count": 54,
      "outputs": [
        {
          "output_type": "stream",
          "name": "stdout",
          "text": [
            "0:\tlearn: 0.5702006\ttest: 0.5702006\ttest1: 0.4495413\tbest: 0.4495413 (0)\ttotal: 64.8ms\tremaining: 2m 9s\n",
            "10:\tlearn: 0.5984533\ttest: 0.5984533\ttest1: 0.4465021\tbest: 0.4544524 (5)\ttotal: 117ms\tremaining: 21.1s\n",
            "20:\tlearn: 0.6016381\ttest: 0.6016381\ttest1: 0.4585062\tbest: 0.4615385 (16)\ttotal: 187ms\tremaining: 17.6s\n",
            "30:\tlearn: 0.5943482\ttest: 0.5943482\ttest1: 0.4377682\tbest: 0.4615385 (16)\ttotal: 236ms\tremaining: 15s\n",
            "40:\tlearn: 0.6039903\ttest: 0.6039903\ttest1: 0.4439701\tbest: 0.4615385 (16)\ttotal: 290ms\tremaining: 13.9s\n",
            "50:\tlearn: 0.6045662\ttest: 0.6045662\ttest1: 0.4456290\tbest: 0.4615385 (16)\ttotal: 343ms\tremaining: 13.1s\n",
            "60:\tlearn: 0.6102728\ttest: 0.6102728\ttest1: 0.4532760\tbest: 0.4615385 (16)\ttotal: 394ms\tremaining: 12.5s\n",
            "Stopped by overfitting detector  (50 iterations wait)\n",
            "\n",
            "bestTest = 0.4615384615\n",
            "bestIteration = 16\n",
            "\n",
            "Shrink model to first 17 iterations.\n"
          ]
        },
        {
          "output_type": "execute_result",
          "data": {
            "text/plain": [
              "<catboost.core.CatBoostClassifier at 0x7fdf947387d0>"
            ]
          },
          "metadata": {},
          "execution_count": 54
        }
      ]
    },
    {
      "cell_type": "markdown",
      "metadata": {
        "id": "e61wvhaXVqDt"
      },
      "source": [
        " ### - разобраться с SHAP и построить важности признаков для:"
      ]
    },
    {
      "cell_type": "markdown",
      "metadata": {
        "id": "XN5rRbNlVqDt"
      },
      "source": [
        "##### a. - всего тестового набора данных (summary_plot - дать интерпретацию)"
      ]
    },
    {
      "cell_type": "code",
      "metadata": {
        "colab": {
          "base_uri": "https://localhost:8080/"
        },
        "id": "Yz0BLGSJVqDv",
        "outputId": "bf8039b0-a3c1-4f64-a866-061aab82fa5f"
      },
      "source": [
        "pip install shap"
      ],
      "execution_count": 56,
      "outputs": [
        {
          "output_type": "stream",
          "name": "stdout",
          "text": [
            "Collecting shap\n",
            "  Downloading shap-0.39.0.tar.gz (356 kB)\n",
            "\u001b[?25l\r\u001b[K     |█                               | 10 kB 28.4 MB/s eta 0:00:01\r\u001b[K     |█▉                              | 20 kB 14.9 MB/s eta 0:00:01\r\u001b[K     |██▊                             | 30 kB 10.5 MB/s eta 0:00:01\r\u001b[K     |███▊                            | 40 kB 9.0 MB/s eta 0:00:01\r\u001b[K     |████▋                           | 51 kB 5.3 MB/s eta 0:00:01\r\u001b[K     |█████▌                          | 61 kB 5.7 MB/s eta 0:00:01\r\u001b[K     |██████▍                         | 71 kB 5.6 MB/s eta 0:00:01\r\u001b[K     |███████▍                        | 81 kB 6.3 MB/s eta 0:00:01\r\u001b[K     |████████▎                       | 92 kB 4.8 MB/s eta 0:00:01\r\u001b[K     |█████████▏                      | 102 kB 5.3 MB/s eta 0:00:01\r\u001b[K     |██████████▏                     | 112 kB 5.3 MB/s eta 0:00:01\r\u001b[K     |███████████                     | 122 kB 5.3 MB/s eta 0:00:01\r\u001b[K     |████████████                    | 133 kB 5.3 MB/s eta 0:00:01\r\u001b[K     |████████████▉                   | 143 kB 5.3 MB/s eta 0:00:01\r\u001b[K     |█████████████▉                  | 153 kB 5.3 MB/s eta 0:00:01\r\u001b[K     |██████████████▊                 | 163 kB 5.3 MB/s eta 0:00:01\r\u001b[K     |███████████████▋                | 174 kB 5.3 MB/s eta 0:00:01\r\u001b[K     |████████████████▋               | 184 kB 5.3 MB/s eta 0:00:01\r\u001b[K     |█████████████████▌              | 194 kB 5.3 MB/s eta 0:00:01\r\u001b[K     |██████████████████▍             | 204 kB 5.3 MB/s eta 0:00:01\r\u001b[K     |███████████████████▎            | 215 kB 5.3 MB/s eta 0:00:01\r\u001b[K     |████████████████████▎           | 225 kB 5.3 MB/s eta 0:00:01\r\u001b[K     |█████████████████████▏          | 235 kB 5.3 MB/s eta 0:00:01\r\u001b[K     |██████████████████████          | 245 kB 5.3 MB/s eta 0:00:01\r\u001b[K     |███████████████████████         | 256 kB 5.3 MB/s eta 0:00:01\r\u001b[K     |████████████████████████        | 266 kB 5.3 MB/s eta 0:00:01\r\u001b[K     |████████████████████████▉       | 276 kB 5.3 MB/s eta 0:00:01\r\u001b[K     |█████████████████████████▊      | 286 kB 5.3 MB/s eta 0:00:01\r\u001b[K     |██████████████████████████▊     | 296 kB 5.3 MB/s eta 0:00:01\r\u001b[K     |███████████████████████████▋    | 307 kB 5.3 MB/s eta 0:00:01\r\u001b[K     |████████████████████████████▌   | 317 kB 5.3 MB/s eta 0:00:01\r\u001b[K     |█████████████████████████████▍  | 327 kB 5.3 MB/s eta 0:00:01\r\u001b[K     |██████████████████████████████▍ | 337 kB 5.3 MB/s eta 0:00:01\r\u001b[K     |███████████████████████████████▎| 348 kB 5.3 MB/s eta 0:00:01\r\u001b[K     |████████████████████████████████| 356 kB 5.3 MB/s \n",
            "\u001b[?25hRequirement already satisfied: numpy in /usr/local/lib/python3.7/dist-packages (from shap) (1.19.5)\n",
            "Requirement already satisfied: scipy in /usr/local/lib/python3.7/dist-packages (from shap) (1.4.1)\n",
            "Requirement already satisfied: scikit-learn in /usr/local/lib/python3.7/dist-packages (from shap) (0.22.2.post1)\n",
            "Requirement already satisfied: pandas in /usr/local/lib/python3.7/dist-packages (from shap) (1.1.5)\n",
            "Requirement already satisfied: tqdm>4.25.0 in /usr/local/lib/python3.7/dist-packages (from shap) (4.62.2)\n",
            "Collecting slicer==0.0.7\n",
            "  Downloading slicer-0.0.7-py3-none-any.whl (14 kB)\n",
            "Requirement already satisfied: numba in /usr/local/lib/python3.7/dist-packages (from shap) (0.51.2)\n",
            "Requirement already satisfied: cloudpickle in /usr/local/lib/python3.7/dist-packages (from shap) (1.3.0)\n",
            "Requirement already satisfied: setuptools in /usr/local/lib/python3.7/dist-packages (from numba->shap) (57.4.0)\n",
            "Requirement already satisfied: llvmlite<0.35,>=0.34.0.dev0 in /usr/local/lib/python3.7/dist-packages (from numba->shap) (0.34.0)\n",
            "Requirement already satisfied: python-dateutil>=2.7.3 in /usr/local/lib/python3.7/dist-packages (from pandas->shap) (2.8.2)\n",
            "Requirement already satisfied: pytz>=2017.2 in /usr/local/lib/python3.7/dist-packages (from pandas->shap) (2018.9)\n",
            "Requirement already satisfied: six>=1.5 in /usr/local/lib/python3.7/dist-packages (from python-dateutil>=2.7.3->pandas->shap) (1.15.0)\n",
            "Requirement already satisfied: joblib>=0.11 in /usr/local/lib/python3.7/dist-packages (from scikit-learn->shap) (1.0.1)\n",
            "Building wheels for collected packages: shap\n",
            "  Building wheel for shap (setup.py) ... \u001b[?25l\u001b[?25hdone\n",
            "  Created wheel for shap: filename=shap-0.39.0-cp37-cp37m-linux_x86_64.whl size=491664 sha256=ff4d3591ed38a9bfd07dd8fbdb573e5fd78a6a60a4ab815c8cc8eaa64bc7a115\n",
            "  Stored in directory: /root/.cache/pip/wheels/ca/25/8f/6ae5df62c32651cd719e972e738a8aaa4a87414c4d2b14c9c0\n",
            "Successfully built shap\n",
            "Installing collected packages: slicer, shap\n",
            "Successfully installed shap-0.39.0 slicer-0.0.7\n"
          ]
        }
      ]
    },
    {
      "cell_type": "code",
      "metadata": {
        "id": "AC7KHQTzVqDu"
      },
      "source": [
        "import shap"
      ],
      "execution_count": 57,
      "outputs": []
    },
    {
      "cell_type": "code",
      "metadata": {
        "colab": {
          "base_uri": "https://localhost:8080/"
        },
        "id": "EBpknMvccIUS",
        "outputId": "df44ec52-2d89-4c5d-8f44-266216b1ffa4"
      },
      "source": [
        "!initjs()"
      ],
      "execution_count": 60,
      "outputs": [
        {
          "output_type": "stream",
          "name": "stdout",
          "text": [
            "/bin/bash: -c: line 1: syntax error: unexpected end of file\n"
          ]
        }
      ]
    },
    {
      "cell_type": "code",
      "metadata": {
        "colab": {
          "base_uri": "https://localhost:8080/",
          "height": 273
        },
        "id": "PSAsdt5lVqDw",
        "outputId": "9489a0d8-16d9-443a-d555-dc1e2d750a66"
      },
      "source": [
        "# explain the model's predictions using SHAP\n",
        "# (same syntax works for LightGBM, CatBoost, scikit-learn and spark models)\n",
        "explainer = shap.TreeExplainer(model)\n",
        "shap_values = explainer.shap_values(X_train)\n",
        "\n",
        "# visualize the first prediction's explanation (use matplotlib=True to avoid Javascript)\n",
        "shap.force_plot(explainer.expected_value, shap_values[0,:], X_train.iloc[0,:], matplotlib=True)"
      ],
      "execution_count": 61,
      "outputs": [
        {
          "output_type": "display_data",
          "data": {
            "image/png": "[encoded data removed]",
            "text/plain": [
              "<Figure size 1440x216 with 1 Axes>"
            ]
          },
          "metadata": {
            "needs_background": "light"
          }
        }
      ]
    },
    {
      "cell_type": "code",
      "metadata": {
        "colab": {
          "base_uri": "https://localhost:8080/",
          "height": 390
        },
        "id": "GvSbqdVlc5mg",
        "outputId": "89ef3b41-c541-47eb-9c26-98153c3e962c"
      },
      "source": [
        "# summarize the effects of all the features\n",
        "shap.summary_plot(shap_values, X_train)"
      ],
      "execution_count": 62,
      "outputs": [
        {
          "output_type": "display_data",
          "data": {
            "image/png": "[encoded data removed]",
            "text/plain": [
              "<Figure size 576x424.8 with 2 Axes>"
            ]
          },
          "metadata": {
            "needs_background": "light"
          }
        }
      ]
    },
    {
      "cell_type": "markdown",
      "metadata": {
        "id": "o80mtj-NdodI"
      },
      "source": [
        "Наибольшее влияние оказывают признаки: Current Loan Amount, Credit Score, Annual Income.\n"
      ]
    }
  ]
}